{
 "cells": [
  {
   "cell_type": "code",
   "execution_count": 1,
   "id": "66daa841-6353-4d4c-ba18-ddfaaa6b8c5f",
   "metadata": {},
   "outputs": [
    {
     "name": "stdout",
     "output_type": "stream",
     "text": [
      "credit_data.csv file has been created successfully!\n"
     ]
    }
   ],
   "source": [
    "import pandas as pd\n",
    "import numpy as np\n",
    "\n",
    "# Set random seed for reproducibility\n",
    "np.random.seed(0)\n",
    "\n",
    "# Define the number of samples\n",
    "n_samples = 1000\n",
    "\n",
    "# Create synthetic data\n",
    "data = {\n",
    "    'age': np.random.randint(18, 70, size=n_samples),  # Age of the individual\n",
    "    'income': np.random.randint(20000, 120000, size=n_samples),  # Annual income in dollars\n",
    "    'credit_utilization': np.random.uniform(0, 1, size=n_samples),  # Credit utilization ratio\n",
    "    'debt_to_income_ratio': np.random.uniform(0, 1, size=n_samples),  # Debt to income ratio\n",
    "    'loan_amount': np.random.randint(5000, 50000, size=n_samples),  # Amount of loan applied for\n",
    "    'credit_score': np.random.choice([0, 1], size=n_samples)  # 0 for Bad, 1 for Good\n",
    "}\n",
    "\n",
    "# Create DataFrame\n",
    "df = pd.DataFrame(data)\n",
    "\n",
    "# Save to CSV\n",
    "df.to_csv('credit_data.csv', index=False)\n",
    "\n",
    "print(\"credit_data.csv file has been created successfully!\")\n"
   ]
  },
  {
   "cell_type": "code",
   "execution_count": 3,
   "id": "f6cecc35-6d67-40b6-865c-857117c83381",
   "metadata": {},
   "outputs": [
    {
     "name": "stdout",
     "output_type": "stream",
     "text": [
      "[[57 71]\n",
      " [81 91]]\n",
      "              precision    recall  f1-score   support\n",
      "\n",
      "           0       0.41      0.45      0.43       128\n",
      "           1       0.56      0.53      0.54       172\n",
      "\n",
      "    accuracy                           0.49       300\n",
      "   macro avg       0.49      0.49      0.49       300\n",
      "weighted avg       0.50      0.49      0.50       300\n",
      "\n"
     ]
    }
   ],
   "source": [
    "import pandas as pd\n",
    "from sklearn.model_selection import train_test_split, GridSearchCV\n",
    "from sklearn.preprocessing import StandardScaler, LabelEncoder\n",
    "from sklearn.ensemble import RandomForestClassifier\n",
    "from sklearn.metrics import classification_report, confusion_matrix\n",
    "\n",
    "# Load data\n",
    "data = pd.read_csv('credit_data.csv')\n",
    "\n",
    "# Preprocessing\n",
    "data = data.dropna()  # Handle missing values\n",
    "X = data.drop('credit_score', axis=1)  # Features\n",
    "y = data['credit_score']  # Target\n",
    "\n",
    "# Encode categorical features\n",
    "X = pd.get_dummies(X)\n",
    "\n",
    "# Split data\n",
    "X_train, X_test, y_train, y_test = train_test_split(X, y, test_size=0.3, random_state=42)\n",
    "\n",
    "# Scaling features\n",
    "scaler = StandardScaler()\n",
    "X_train = scaler.fit_transform(X_train)\n",
    "X_test = scaler.transform(X_test)\n",
    "\n",
    "# Model training\n",
    "model = RandomForestClassifier(n_estimators=100, random_state=42)\n",
    "model.fit(X_train, y_train)\n",
    "\n",
    "# Predictions\n",
    "y_pred = model.predict(X_test)\n",
    "\n",
    "# Evaluation\n",
    "print(confusion_matrix(y_test, y_pred))\n",
    "print(classification_report(y_test, y_pred))\n"
   ]
  },
  {
   "cell_type": "code",
   "execution_count": null,
   "id": "7264574b-dfff-4826-aa80-7222a8ee7e92",
   "metadata": {},
   "outputs": [],
   "source": []
  }
 ],
 "metadata": {
  "kernelspec": {
   "display_name": "Python 3 (ipykernel)",
   "language": "python",
   "name": "python3"
  },
  "language_info": {
   "codemirror_mode": {
    "name": "ipython",
    "version": 3
   },
   "file_extension": ".py",
   "mimetype": "text/x-python",
   "name": "python",
   "nbconvert_exporter": "python",
   "pygments_lexer": "ipython3",
   "version": "3.12.4"
  }
 },
 "nbformat": 4,
 "nbformat_minor": 5
}
